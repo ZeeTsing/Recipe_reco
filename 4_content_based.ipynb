{
 "cells": [
  {
   "cell_type": "code",
   "execution_count": 38,
   "metadata": {},
   "outputs": [],
   "source": [
    "import pandas as pd\n",
    "import numpy as np\n",
    "from collections import Counter\n",
    "import random\n",
    "import seaborn as sns\n",
    "import matplotlib.pyplot as plt\n",
    "from scipy.sparse import coo_matrix\n",
    "import pickle\n",
    "from scipy.sparse import hstack\n",
    "from collections import defaultdict\n",
    "import pickle\n",
    "from sklearn.feature_extraction.text import TfidfVectorizer\n",
    "from scipy.sparse.linalg import svds\n",
    "\n",
    "my_seed = 0\n",
    "random.seed(my_seed)"
   ]
  },
  {
   "cell_type": "code",
   "execution_count": 6,
   "metadata": {},
   "outputs": [],
   "source": [
    "file = open('output/recipes.pkl',\"rb\")\n",
    "recipes = pickle.load(file)"
   ]
  },
  {
   "cell_type": "code",
   "execution_count": 7,
   "metadata": {},
   "outputs": [
    {
     "data": {
      "text/html": [
       "<div>\n",
       "<style scoped>\n",
       "    .dataframe tbody tr th:only-of-type {\n",
       "        vertical-align: middle;\n",
       "    }\n",
       "\n",
       "    .dataframe tbody tr th {\n",
       "        vertical-align: top;\n",
       "    }\n",
       "\n",
       "    .dataframe thead th {\n",
       "        text-align: right;\n",
       "    }\n",
       "</style>\n",
       "<table border=\"1\" class=\"dataframe\">\n",
       "  <thead>\n",
       "    <tr style=\"text-align: right;\">\n",
       "      <th></th>\n",
       "      <th>name</th>\n",
       "      <th>minutes</th>\n",
       "      <th>contributor_id</th>\n",
       "      <th>submitted</th>\n",
       "      <th>tags</th>\n",
       "      <th>nutrition</th>\n",
       "      <th>n_steps</th>\n",
       "      <th>steps</th>\n",
       "      <th>description</th>\n",
       "      <th>ingredients</th>\n",
       "      <th>n_ingredients</th>\n",
       "      <th>new_recipe_id</th>\n",
       "    </tr>\n",
       "  </thead>\n",
       "  <tbody>\n",
       "    <tr>\n",
       "      <th>0</th>\n",
       "      <td>arriba   baked winter squash mexican style</td>\n",
       "      <td>55</td>\n",
       "      <td>47892</td>\n",
       "      <td>2005-09-16</td>\n",
       "      <td>[60-minutes-or-less, time-to-make, course, mai...</td>\n",
       "      <td>[51.5, 0.0, 13.0, 0.0, 2.0, 0.0, 4.0]</td>\n",
       "      <td>11</td>\n",
       "      <td>[make a choice and proceed with recipe, depend...</td>\n",
       "      <td>autumn is my favorite time of year to cook! th...</td>\n",
       "      <td>[winter squash, mexican seasoning, mixed spice...</td>\n",
       "      <td>7</td>\n",
       "      <td>79681</td>\n",
       "    </tr>\n",
       "    <tr>\n",
       "      <th>1</th>\n",
       "      <td>a bit different  breakfast pizza</td>\n",
       "      <td>30</td>\n",
       "      <td>26278</td>\n",
       "      <td>2002-06-17</td>\n",
       "      <td>[30-minutes-or-less, time-to-make, course, mai...</td>\n",
       "      <td>[173.4, 18.0, 0.0, 17.0, 22.0, 35.0, 1.0]</td>\n",
       "      <td>9</td>\n",
       "      <td>[preheat oven to 425 degrees f, press dough in...</td>\n",
       "      <td>this recipe calls for the crust to be prebaked...</td>\n",
       "      <td>[prepared pizza crust, sausage patty, eggs, mi...</td>\n",
       "      <td>6</td>\n",
       "      <td>17031</td>\n",
       "    </tr>\n",
       "    <tr>\n",
       "      <th>2</th>\n",
       "      <td>all in the kitchen  chili</td>\n",
       "      <td>130</td>\n",
       "      <td>196586</td>\n",
       "      <td>2005-02-25</td>\n",
       "      <td>[time-to-make, course, preparation, main-dish,...</td>\n",
       "      <td>[269.8, 22.0, 32.0, 48.0, 39.0, 27.0, 5.0]</td>\n",
       "      <td>6</td>\n",
       "      <td>[brown ground beef in large pot, add chopped o...</td>\n",
       "      <td>this modified version of 'mom's' chili was a h...</td>\n",
       "      <td>[ground beef, yellow onions, diced tomatoes, t...</td>\n",
       "      <td>13</td>\n",
       "      <td>65277</td>\n",
       "    </tr>\n",
       "    <tr>\n",
       "      <th>3</th>\n",
       "      <td>alouette  potatoes</td>\n",
       "      <td>45</td>\n",
       "      <td>68585</td>\n",
       "      <td>2003-04-14</td>\n",
       "      <td>[60-minutes-or-less, time-to-make, course, mai...</td>\n",
       "      <td>[368.1, 17.0, 10.0, 2.0, 14.0, 8.0, 20.0]</td>\n",
       "      <td>11</td>\n",
       "      <td>[place potatoes in a large pot of lightly salt...</td>\n",
       "      <td>this is a super easy, great tasting, make ahea...</td>\n",
       "      <td>[spreadable cheese with garlic and herbs, new ...</td>\n",
       "      <td>11</td>\n",
       "      <td>33775</td>\n",
       "    </tr>\n",
       "    <tr>\n",
       "      <th>4</th>\n",
       "      <td>amish  tomato ketchup  for canning</td>\n",
       "      <td>190</td>\n",
       "      <td>41706</td>\n",
       "      <td>2002-10-25</td>\n",
       "      <td>[weeknight, time-to-make, course, main-ingredi...</td>\n",
       "      <td>[352.9, 1.0, 337.0, 23.0, 3.0, 0.0, 28.0]</td>\n",
       "      <td>5</td>\n",
       "      <td>[mix all ingredients&amp; boil for 2 1 / 2 hours ,...</td>\n",
       "      <td>my dh's amish mother raised him on this recipe...</td>\n",
       "      <td>[tomato juice, apple cider vinegar, sugar, sal...</td>\n",
       "      <td>8</td>\n",
       "      <td>24632</td>\n",
       "    </tr>\n",
       "  </tbody>\n",
       "</table>\n",
       "</div>"
      ],
      "text/plain": [
       "                                         name  minutes  contributor_id  \\\n",
       "0  arriba   baked winter squash mexican style       55           47892   \n",
       "1            a bit different  breakfast pizza       30           26278   \n",
       "2                   all in the kitchen  chili      130          196586   \n",
       "3                          alouette  potatoes       45           68585   \n",
       "4          amish  tomato ketchup  for canning      190           41706   \n",
       "\n",
       "    submitted                                               tags  \\\n",
       "0  2005-09-16  [60-minutes-or-less, time-to-make, course, mai...   \n",
       "1  2002-06-17  [30-minutes-or-less, time-to-make, course, mai...   \n",
       "2  2005-02-25  [time-to-make, course, preparation, main-dish,...   \n",
       "3  2003-04-14  [60-minutes-or-less, time-to-make, course, mai...   \n",
       "4  2002-10-25  [weeknight, time-to-make, course, main-ingredi...   \n",
       "\n",
       "                                    nutrition  n_steps  \\\n",
       "0       [51.5, 0.0, 13.0, 0.0, 2.0, 0.0, 4.0]       11   \n",
       "1   [173.4, 18.0, 0.0, 17.0, 22.0, 35.0, 1.0]        9   \n",
       "2  [269.8, 22.0, 32.0, 48.0, 39.0, 27.0, 5.0]        6   \n",
       "3   [368.1, 17.0, 10.0, 2.0, 14.0, 8.0, 20.0]       11   \n",
       "4   [352.9, 1.0, 337.0, 23.0, 3.0, 0.0, 28.0]        5   \n",
       "\n",
       "                                               steps  \\\n",
       "0  [make a choice and proceed with recipe, depend...   \n",
       "1  [preheat oven to 425 degrees f, press dough in...   \n",
       "2  [brown ground beef in large pot, add chopped o...   \n",
       "3  [place potatoes in a large pot of lightly salt...   \n",
       "4  [mix all ingredients& boil for 2 1 / 2 hours ,...   \n",
       "\n",
       "                                         description  \\\n",
       "0  autumn is my favorite time of year to cook! th...   \n",
       "1  this recipe calls for the crust to be prebaked...   \n",
       "2  this modified version of 'mom's' chili was a h...   \n",
       "3  this is a super easy, great tasting, make ahea...   \n",
       "4  my dh's amish mother raised him on this recipe...   \n",
       "\n",
       "                                         ingredients  n_ingredients  \\\n",
       "0  [winter squash, mexican seasoning, mixed spice...              7   \n",
       "1  [prepared pizza crust, sausage patty, eggs, mi...              6   \n",
       "2  [ground beef, yellow onions, diced tomatoes, t...             13   \n",
       "3  [spreadable cheese with garlic and herbs, new ...             11   \n",
       "4  [tomato juice, apple cider vinegar, sugar, sal...              8   \n",
       "\n",
       "   new_recipe_id  \n",
       "0          79681  \n",
       "1          17031  \n",
       "2          65277  \n",
       "3          33775  \n",
       "4          24632  "
      ]
     },
     "execution_count": 7,
     "metadata": {},
     "output_type": "execute_result"
    }
   ],
   "source": [
    "recipes.head()"
   ]
  },
  {
   "cell_type": "code",
   "execution_count": 65,
   "metadata": {},
   "outputs": [
    {
     "name": "stdout",
     "output_type": "stream",
     "text": [
      "<class 'pandas.core.frame.DataFrame'>\n",
      "Int64Index: 231637 entries, 0 to 231636\n",
      "Data columns (total 13 columns):\n",
      "name              231636 non-null object\n",
      "minutes           231637 non-null int64\n",
      "contributor_id    231637 non-null int64\n",
      "submitted         231637 non-null object\n",
      "tags              231637 non-null object\n",
      "nutrition         231637 non-null object\n",
      "n_steps           231637 non-null int64\n",
      "steps             231637 non-null object\n",
      "description       226658 non-null object\n",
      "ingredients       231637 non-null object\n",
      "n_ingredients     231637 non-null int64\n",
      "new_recipe_id     231637 non-null int64\n",
      "calorie           231637 non-null float64\n",
      "dtypes: float64(1), int64(5), object(7)\n",
      "memory usage: 24.7+ MB\n"
     ]
    }
   ],
   "source": [
    "recipes.info()"
   ]
  },
  {
   "cell_type": "markdown",
   "metadata": {},
   "source": [
    "Our next step is to construct a table that is similar to a UI table. Only that rows are recipe names and columns are recipe attributes\n",
    "\n",
    "We will apply SVD on it and try to get a recommendation from it"
   ]
  },
  {
   "cell_type": "code",
   "execution_count": 9,
   "metadata": {},
   "outputs": [],
   "source": [
    "recipes['calorie'] = [item[0] for item in recipes.nutrition]"
   ]
  },
  {
   "cell_type": "code",
   "execution_count": 10,
   "metadata": {},
   "outputs": [],
   "source": [
    "def treat_ingredients(input):\n",
    "    output = []\n",
    "    for ingredient in input:\n",
    "        ingredient_list = ingredient.split(' ')\n",
    "        output.append(\"_\".join(ingredient_list))\n",
    "    return \" \".join(output)"
   ]
  },
  {
   "cell_type": "code",
   "execution_count": 66,
   "metadata": {},
   "outputs": [],
   "source": [
    "recipes_2 = recipes.set_index('new_recipe_id').sort_index()"
   ]
  },
  {
   "cell_type": "code",
   "execution_count": 68,
   "metadata": {},
   "outputs": [
    {
     "data": {
      "text/plain": [
       "name                                            butter madeira cake\n",
       "minutes                                                         175\n",
       "contributor_id                                                 1543\n",
       "submitted                                                1999-09-12\n",
       "tags              [weeknight, time-to-make, course, preparation,...\n",
       "nutrition               [373.8, 30.0, 88.0, 10.0, 11.0, 59.0, 14.0]\n",
       "n_steps                                                          15\n",
       "steps             [grease lined tin with melted butter, sift flo...\n",
       "description       this is a good stand by and easy mixed in a fo...\n",
       "ingredients       [flour, baking powder, caster sugar, butter, e...\n",
       "n_ingredients                                                     7\n",
       "calorie                                                       373.8\n",
       "Name: 23, dtype: object"
      ]
     },
     "execution_count": 68,
     "metadata": {},
     "output_type": "execute_result"
    }
   ],
   "source": [
    "recipes_2.iloc[23]"
   ]
  },
  {
   "cell_type": "code",
   "execution_count": 69,
   "metadata": {},
   "outputs": [],
   "source": [
    "ingredients_all = recipes_2.ingredients.apply(lambda x: treat_ingredients(x))"
   ]
  },
  {
   "cell_type": "code",
   "execution_count": 70,
   "metadata": {},
   "outputs": [],
   "source": [
    "tfidf = TfidfVectorizer(max_df = 0.7,min_df = 2)"
   ]
  },
  {
   "cell_type": "code",
   "execution_count": 71,
   "metadata": {},
   "outputs": [],
   "source": [
    "ing_tfidf = coo_matrix(tfidf.fit_transform(ingredients_all))"
   ]
  },
  {
   "cell_type": "code",
   "execution_count": 72,
   "metadata": {},
   "outputs": [],
   "source": [
    "columns_keep = ['minutes','contributor_id','calorie']"
   ]
  },
  {
   "cell_type": "code",
   "execution_count": 73,
   "metadata": {},
   "outputs": [],
   "source": [
    "recipes_att = coo_matrix(recipes_2[columns_keep].to_numpy())"
   ]
  },
  {
   "cell_type": "code",
   "execution_count": 74,
   "metadata": {},
   "outputs": [],
   "source": [
    "recipes_attr = hstack((recipes_att,ing_tfidf))"
   ]
  },
  {
   "cell_type": "code",
   "execution_count": 75,
   "metadata": {},
   "outputs": [],
   "source": [
    "U, S, VT = svds(recipes_attr)"
   ]
  },
  {
   "cell_type": "code",
   "execution_count": 92,
   "metadata": {},
   "outputs": [],
   "source": [
    "def get_recommends_similar_users(iids, U, n_reco = 10):\n",
    "    users_to_rec = [iid for iid in range(U.shape[0]) if iid not in iids]\n",
    "    \n",
    "    user_sim_score = []\n",
    "    \n",
    "    for user in users_to_rec:\n",
    "        user_sim_score.append(np.mean([np.dot(U[userid],U[user]) for userid in iids]))\n",
    "        \n",
    "    userrecs = zip(users_to_rec,user_sim_score)\n",
    "    \n",
    "    final_rec = [i[0] for i in sorted(userrecs,key=lambda x: x[1],reverse=True)]\n",
    "\n",
    "    return final_rec[:n_reco]\n",
    "\n",
    "def save_file_to_pickle(item, file_name, file_type = 'obj'):\n",
    "    file = open(f'output/{file_name}.{file_type}', 'wb') \n",
    "    pickle.dump(item, file)\n",
    "    file.close()"
   ]
  },
  {
   "cell_type": "code",
   "execution_count": 50,
   "metadata": {},
   "outputs": [],
   "source": [
    "# we need to convert back to the recipes DT index (because we have not index the column as per our new id.. should have done that to avoid confusion)\n",
    "\n",
    "iids =[23,56,34,111]\n"
   ]
  },
  {
   "cell_type": "code",
   "execution_count": 86,
   "metadata": {},
   "outputs": [],
   "source": [
    "save_file_to_pickle(U,\"rep_mtx\",\"pkl\")"
   ]
  },
  {
   "cell_type": "code",
   "execution_count": 93,
   "metadata": {},
   "outputs": [
    {
     "data": {
      "text/plain": [
       "[11898, 165557, 46982, 63849, 210100, 88302, 200512, 10159, 26425, 4647]"
      ]
     },
     "execution_count": 93,
     "metadata": {},
     "output_type": "execute_result"
    }
   ],
   "source": [
    "get_recommends_similar_users(iids,U)"
   ]
  },
  {
   "cell_type": "code",
   "execution_count": 94,
   "metadata": {},
   "outputs": [
    {
     "data": {
      "text/plain": [
       "name                            baby bananas in orange sauce  benin\n",
       "minutes                                                          25\n",
       "contributor_id                                               593927\n",
       "submitted                                                2011-05-19\n",
       "tags              [30-minutes-or-less, time-to-make, course, mai...\n",
       "nutrition                  [343.6, 0.0, 292.0, 0.0, 3.0, 0.0, 29.0]\n",
       "n_steps                                                           6\n",
       "steps             [heat orange juice , brown sugar , and lemon j...\n",
       "description       dd (toddler) had us try this one and we both d...\n",
       "ingredients       [orange juice, brown sugar, lemon juice, bananas]\n",
       "n_ingredients                                                     4\n",
       "new_recipe_id                                                216330\n",
       "calorie                                                       343.6\n",
       "Name: 11898, dtype: object"
      ]
     },
     "execution_count": 94,
     "metadata": {},
     "output_type": "execute_result"
    }
   ],
   "source": [
    "recipes.iloc[11898]"
   ]
  },
  {
   "cell_type": "code",
   "execution_count": 95,
   "metadata": {},
   "outputs": [
    {
     "data": {
      "text/plain": [
       "name                           prairie potatoes  easy microwave fix\n",
       "minutes                                                          31\n",
       "contributor_id                                               296809\n",
       "submitted                                                2007-11-12\n",
       "tags              [60-minutes-or-less, time-to-make, course, mai...\n",
       "nutrition               [526.5, 41.0, 16.0, 37.0, 47.0, 68.0, 16.0]\n",
       "n_steps                                                           9\n",
       "steps             [prick potato skins, wrap ea potato in kitchen...\n",
       "description       this is recipe #6 from *microwave cooking* by ...\n",
       "ingredients       [potatoes, butter, milk, corned beef, corn, ch...\n",
       "n_ingredients                                                     8\n",
       "new_recipe_id                                                143417\n",
       "calorie                                                       526.5\n",
       "Name: 165557, dtype: object"
      ]
     },
     "execution_count": 95,
     "metadata": {},
     "output_type": "execute_result"
    }
   ],
   "source": [
    "recipes.iloc[165557]"
   ]
  },
  {
   "cell_type": "code",
   "execution_count": 96,
   "metadata": {},
   "outputs": [
    {
     "data": {
      "text/plain": [
       "name                                         chicken potato chowder\n",
       "minutes                                                         315\n",
       "contributor_id                                               123871\n",
       "submitted                                                2005-09-19\n",
       "tags              [time-to-make, course, preparation, healthy, s...\n",
       "nutrition                 [236.2, 5.0, 14.0, 19.0, 25.0, 4.0, 13.0]\n",
       "n_steps                                                           5\n",
       "steps             [cut chicken into bite-sized pieces and saute ...\n",
       "description       this is a yummy slow cooker soup. it is from t...\n",
       "ingredients       [chicken breast halves, red potatoes, frozen m...\n",
       "n_ingredients                                                     6\n",
       "new_recipe_id                                                 79733\n",
       "calorie                                                       236.2\n",
       "Name: 46982, dtype: object"
      ]
     },
     "execution_count": 96,
     "metadata": {},
     "output_type": "execute_result"
    }
   ],
   "source": [
    "recipes.iloc[46982]"
   ]
  },
  {
   "cell_type": "code",
   "execution_count": null,
   "metadata": {},
   "outputs": [],
   "source": []
  }
 ],
 "metadata": {
  "kernelspec": {
   "display_name": "Python 3",
   "language": "python",
   "name": "python3"
  },
  "language_info": {
   "codemirror_mode": {
    "name": "ipython",
    "version": 3
   },
   "file_extension": ".py",
   "mimetype": "text/x-python",
   "name": "python",
   "nbconvert_exporter": "python",
   "pygments_lexer": "ipython3",
   "version": "3.7.3"
  }
 },
 "nbformat": 4,
 "nbformat_minor": 2
}
