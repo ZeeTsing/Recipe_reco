{
 "cells": [
  {
   "cell_type": "markdown",
   "metadata": {},
   "source": [
    "This notebook tries to build a very simple recommender system which combines both content based CF and user based CF system."
   ]
  },
  {
   "cell_type": "code",
   "execution_count": 62,
   "metadata": {},
   "outputs": [],
   "source": [
    "import pandas as pd\n",
    "import numpy as np\n",
    "import random\n",
    "from scipy.sparse import coo_matrix\n",
    "import pickle\n",
    "from surprise import Dataset\n",
    "from surprise import Reader\n",
    "from surprise.model_selection import cross_validate,train_test_split,KFold\n",
    "from surprise import SVD,SVDpp, NMF,SlopeOne,CoClustering\n",
    "from surprise import accuracy\n",
    "from collections import defaultdict\n",
    "\n",
    "my_seed = 0\n",
    "random.seed(my_seed)"
   ]
  },
  {
   "cell_type": "code",
   "execution_count": 2,
   "metadata": {},
   "outputs": [],
   "source": [
    "file = open(\"output/SVD_algo.pkl\",'rb')\n",
    "SVD_algo = pickle.load(file)"
   ]
  },
  {
   "cell_type": "code",
   "execution_count": 3,
   "metadata": {},
   "outputs": [],
   "source": [
    "file = open(\"output/recipes_names.pkl\",'rb')\n",
    "rep_names = pickle.load(file)"
   ]
  },
  {
   "cell_type": "code",
   "execution_count": 4,
   "metadata": {},
   "outputs": [],
   "source": [
    "file = open(\"output/rep_mtx.pkl\",'rb')\n",
    "rep_U = pickle.load(file)"
   ]
  },
  {
   "cell_type": "markdown",
   "metadata": {},
   "source": [
    "here iids refer to recipe unique IDs"
   ]
  },
  {
   "cell_type": "code",
   "execution_count": 43,
   "metadata": {},
   "outputs": [],
   "source": [
    "def get_recipe_similar_score(iids, U = rep_U):\n",
    "    users_to_rec = [iid for iid in range(U.shape[0]) if iid not in iids]\n",
    "   \n",
    "    user_sim_score = []\n",
    "\n",
    "    for user in users_to_rec:\n",
    "        user_sim_score.append(float(np.mean([np.dot(U[userid],U[user]) for userid in iids])))\n",
    "\n",
    "    return users_to_rec,user_sim_score"
   ]
  },
  {
   "cell_type": "code",
   "execution_count": 35,
   "metadata": {},
   "outputs": [],
   "source": [
    "def get_users_pred_score(iids,algo = SVD_algo,uid = 226571):\n",
    "    \n",
    "    # create the list to search in\n",
    "    iid_to_test = [iid for iid in range(231637) if iid not in iids]\n",
    "    # build data for surprise\n",
    "    test_set = [[uid,iid,4.] for iid in iid_to_test]\n",
    "    # predict\n",
    "    predictions = algo.test(test_set)\n",
    "    #get prediction\n",
    "    pred_ratings = [pred.est for pred in predictions]\n",
    "    # return top_n indexes\n",
    "    return pred_ratings"
   ]
  },
  {
   "cell_type": "code",
   "execution_count": 50,
   "metadata": {},
   "outputs": [],
   "source": [
    "def hybrid_model_reco(iids,n_reco = 10):\n",
    "    reco_id,rep_sim_score = get_recipe_similar_score(iids)\n",
    "    \n",
    "    pred_ratings = get_users_pred_score(iids)\n",
    "    \n",
    "    final_rating = [(ss+pr)*0.5 for ss,pr in zip(rep_sim_score,pred_ratings)]\n",
    "    \n",
    "    final_rating = zip(reco_id,final_rating)\n",
    "    \n",
    "    final_rec = [i[0] for i in sorted(final_rating,key=lambda x: x[1],reverse=True)]\n",
    "\n",
    "    return final_rec[:n_reco]"
   ]
  },
  {
   "cell_type": "code",
   "execution_count": null,
   "metadata": {},
   "outputs": [],
   "source": [
    "def translate_recipe_names(results,rep_names = rep_names):\n",
    "    return [pretty_text(rep_names[r]) for r in results]\n",
    "\n",
    "def pretty_text (text):\n",
    "    ''' This function takes in text and try to put it in a human readable format by putting back \\' and making it capitalize\n",
    "    '''\n",
    "    text = text.replace(\" s \",\"\\'s \")\n",
    "    text_split = text.split(\" \")\n",
    "    #print(text_split)\n",
    "    text_split = [t.strip().capitalize() for t in text_split if t != '']\n",
    "    #print(text_split)\n",
    "    return \" \".join(text_split)"
   ]
  },
  {
   "cell_type": "code",
   "execution_count": 61,
   "metadata": {},
   "outputs": [
    {
     "data": {
      "text/plain": [
       "['Butter Madeira Cake',\n",
       " 'Cheese Rolls',\n",
       " 'Chicken Breasts Saltimbocca',\n",
       " 'Swiss Crab Melt']"
      ]
     },
     "execution_count": 61,
     "metadata": {},
     "output_type": "execute_result"
    }
   ],
   "source": [
    "iids = [23,56,34,111]\n",
    "translate_recipe_names(iids)"
   ]
  },
  {
   "cell_type": "code",
   "execution_count": 52,
   "metadata": {},
   "outputs": [],
   "source": [
    "results = hybrid_model_reco(iids)"
   ]
  },
  {
   "cell_type": "code",
   "execution_count": 60,
   "metadata": {},
   "outputs": [
    {
     "data": {
      "text/plain": [
       "['Mexican Stack Up Rsc',\n",
       " 'Ragu Shuka Ragu',\n",
       " 'Simply Irresistible Tropical Potato Salad Sp5',\n",
       " 'Vegan Truffles',\n",
       " 'Crunchy Valley Chicken Rsc',\n",
       " 'Blue Ribbon Carrot Cake With Buttermilk Glaze',\n",
       " 'Boursin Homemade',\n",
       " 'Rumbledethumps Celtic Potato Cabbage Cheese Gratin',\n",
       " 'Cheesy Chicken Pot Biscuit Cups Low Fat Low Cal',\n",
       " 'Lemon Pie']"
      ]
     },
     "execution_count": 60,
     "metadata": {},
     "output_type": "execute_result"
    }
   ],
   "source": [
    "translate_recipe_names(results)"
   ]
  },
  {
   "cell_type": "code",
   "execution_count": 67,
   "metadata": {},
   "outputs": [],
   "source": [
    "l = [random.randint(0,len(rep_names)) for i in range(12)]"
   ]
  },
  {
   "cell_type": "code",
   "execution_count": 69,
   "metadata": {},
   "outputs": [
    {
     "data": {
      "text/plain": [
       "['Premium Black Bean Soup',\n",
       " 'Wasabi Popcorn',\n",
       " 'Three Cheese Jalapeno Crescent Pinwheels',\n",
       " 'Thai Style Broccoli With Garlic',\n",
       " 'Fruit Flips',\n",
       " 'Hawaiian Ham And Swiss Sandwich',\n",
       " 'Sugar Free Flax Seed Meal Your Choice Muffins',\n",
       " 'Sweet And Sour Bean Salad',\n",
       " 'Grilled Halibut Simply Delicious',\n",
       " 'Chilled Cafe Latte',\n",
       " 'Canadian Potato Salad',\n",
       " 'Bistec A La Mexicana']"
      ]
     },
     "execution_count": 69,
     "metadata": {},
     "output_type": "execute_result"
    }
   ],
   "source": [
    "translate_recipe_names(l)"
   ]
  },
  {
   "cell_type": "code",
   "execution_count": 70,
   "metadata": {},
   "outputs": [
    {
     "data": {
      "text/plain": [
       "[100989,\n",
       " 198693,\n",
       " 110250,\n",
       " 10612,\n",
       " 67873,\n",
       " 134027,\n",
       " 127383,\n",
       " 106151,\n",
       " 205468,\n",
       " 217540,\n",
       " 79511,\n",
       " 124937]"
      ]
     },
     "execution_count": 70,
     "metadata": {},
     "output_type": "execute_result"
    }
   ],
   "source": [
    "l"
   ]
  },
  {
   "cell_type": "code",
   "execution_count": null,
   "metadata": {},
   "outputs": [],
   "source": []
  }
 ],
 "metadata": {
  "kernelspec": {
   "display_name": "Python 3",
   "language": "python",
   "name": "python3"
  },
  "language_info": {
   "codemirror_mode": {
    "name": "ipython",
    "version": 3
   },
   "file_extension": ".py",
   "mimetype": "text/x-python",
   "name": "python",
   "nbconvert_exporter": "python",
   "pygments_lexer": "ipython3",
   "version": "3.7.3"
  }
 },
 "nbformat": 4,
 "nbformat_minor": 2
}
