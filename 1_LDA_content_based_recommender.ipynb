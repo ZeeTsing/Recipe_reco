{
 "cells": [
  {
   "cell_type": "code",
   "execution_count": 11,
   "metadata": {},
   "outputs": [],
   "source": [
    "import pandas as pd\n",
    "import numpy as np\n",
    "import gensim\n",
    "import random\n",
    "from sklearn.feature_extraction.text import CountVectorizer\n",
    "from gensim.matutils import Sparse2Corpus\n",
    "from gensim.models.ldamodel import LdaModel\n",
    "from gensim import models, similarities\n",
    "from gensim.corpora import Dictionary\n",
    "\n",
    "seed = 0"
   ]
  },
  {
   "cell_type": "code",
   "execution_count": 12,
   "metadata": {},
   "outputs": [],
   "source": [
    "data = pd.read_pickle('data/raw_df.pkl')"
   ]
  },
  {
   "cell_type": "code",
   "execution_count": 13,
   "metadata": {},
   "outputs": [],
   "source": [
    "def treat_ingredients(ing_list):\n",
    "    output = []\n",
    "    for ingredient in ing_list:\n",
    "        ingredient_list = ingredient.split(' ')\n",
    "        output.append(\"_\".join(ingredient_list))\n",
    "    return output"
   ]
  },
  {
   "cell_type": "code",
   "execution_count": 34,
   "metadata": {},
   "outputs": [],
   "source": [
    "def get_similarity(lda, query_vector):\n",
    "    index = similarities.MatrixSimilarity(lda[corpus])\n",
    "    sims = index[query_vector]\n",
    "    return sims"
   ]
  },
  {
   "cell_type": "code",
   "execution_count": 15,
   "metadata": {},
   "outputs": [],
   "source": [
    "def train_lda_model(ingredients,num_topics = 100,passes = 15,random_state = seed):\n",
    "    # get list of ingredients transformed\n",
    "    ingredients_all = ingredients.apply(lambda x: treat_ingredients(x))\n",
    "    \n",
    "    #build dict (for Gensim vectorizer)\n",
    "    dictionary = Dictionary([ing for ing in list(ingredients_all)])\n",
    "    \n",
    "    # build corpus\n",
    "    corpus = [dictionary.doc2bow(text) for text in list(ingredients_all)]\n",
    "    \n",
    "    #train lda\n",
    "    ldamodel = LdaModel(corpus,num_topics = num_topics, passes = passes,random_state = random_state, id2word = dictionary)\n",
    "    return ldamodel,dictionary,corpus"
   ]
  },
  {
   "cell_type": "code",
   "execution_count": 17,
   "metadata": {},
   "outputs": [],
   "source": [
    "sample_w = \"butter, salt, pepper\""
   ]
  },
  {
   "cell_type": "code",
   "execution_count": 29,
   "metadata": {},
   "outputs": [],
   "source": [
    "# define treat input function, returning a list of tokenized ingredients\n",
    "def treat_words (words):\n",
    "    list_words = words.split(\",\")\n",
    "    output = []\n",
    "    for w in list_words:\n",
    "        output.append(\"_\".join(w.strip().split(\" \")))\n",
    "    return output"
   ]
  },
  {
   "cell_type": "code",
   "execution_count": 35,
   "metadata": {},
   "outputs": [],
   "source": [
    "def calculate_similarity(query,ldamodel,dct):\n",
    "    # treat input words\n",
    "    words_bow = dct.doc2bow(treat_words(query))\n",
    "    query_vector = ldamodel[words_bow]\n",
    "    \n",
    "    #calculate ranking\n",
    "    sim_rank = get_similarity(lda = ldamodel, query_vector = query)\n",
    "    sim_rank = sorted(enumerate(sim_rank), key=lambda item: -item[1])\n",
    "    \n",
    "    return sim_rank"
   ]
  },
  {
   "cell_type": "code",
   "execution_count": 20,
   "metadata": {},
   "outputs": [],
   "source": [
    "def calculate_recommendation(sim_rank,groups,n_reco = 10):\n",
    "    results = [sim_rank[0][0]]\n",
    "    results_prob = [sim_rank[0][1]]\n",
    "    result_group = [sim_rank[0][1]]\n",
    "        \n",
    "    for recipe,group in zip(sim_rank[1:],groups[1:]):\n",
    "        if group not in set(result_group):\n",
    "            results.append(recipe[0])\n",
    "            result_group.append(group)\n",
    "            results_prob.append(recipe[1])\n",
    "        if len(results) == n_reco:\n",
    "            break\n",
    "    print(result_group,\"\\n\",results_prob)\n",
    "    return results"
   ]
  },
  {
   "cell_type": "code",
   "execution_count": 32,
   "metadata": {},
   "outputs": [],
   "source": [
    "# this is a wrapper function for calculate simu and calculate reco\n",
    "def get_similarity_reco (query,ldamodel,dct,corpus,n_reco = 10):\n",
    "    #calculate rank\n",
    "    sim_rank = calculate_similarity(query,ldamodel,dct)\n",
    "    #find groups according to lda model\n",
    "    groups = []\n",
    "    for l in ldamodel[corpus]:\n",
    "        try:\n",
    "            groups.append(l[0][0])\n",
    "        except:\n",
    "            groups.append(random.randint(1, 100))\n",
    "            \n",
    "    return calculate_recommendation(sim_rank,groups,n_reco)"
   ]
  },
  {
   "cell_type": "code",
   "execution_count": 23,
   "metadata": {},
   "outputs": [],
   "source": [
    "def print_reco(results):\n",
    "    return data.iloc[results]"
   ]
  },
  {
   "cell_type": "code",
   "execution_count": 24,
   "metadata": {},
   "outputs": [],
   "source": [
    "def pretty_name (name):\n",
    "    return \" \".join([ word.capitalize() for word in name.split(\" \") if word != \"\"])"
   ]
  },
  {
   "cell_type": "code",
   "execution_count": 25,
   "metadata": {},
   "outputs": [],
   "source": [
    "ldamodel,dictionary,corpus = train_lda_model(data.ingredients)"
   ]
  },
  {
   "cell_type": "code",
   "execution_count": 27,
   "metadata": {},
   "outputs": [],
   "source": [
    "query = \"egg, cream, milk, fish\""
   ]
  },
  {
   "cell_type": "code",
   "execution_count": null,
   "metadata": {},
   "outputs": [],
   "source": [
    "results = get_similarity_reco (query, ldamodel, dct = dictionary, corpus = corpus,n_reco = 10)"
   ]
  },
  {
   "cell_type": "code",
   "execution_count": null,
   "metadata": {},
   "outputs": [],
   "source": [
    "print_reco(results)"
   ]
  },
  {
   "cell_type": "code",
   "execution_count": 181,
   "metadata": {},
   "outputs": [
    {
     "data": {
      "text/plain": [
       "[12, 60, 10, 1, 1, 49, 55, 2, 41, 14]"
      ]
     },
     "execution_count": 181,
     "metadata": {},
     "output_type": "execute_result"
    }
   ],
   "source": []
  },
  {
   "cell_type": "code",
   "execution_count": 189,
   "metadata": {},
   "outputs": [],
   "source": []
  },
  {
   "cell_type": "code",
   "execution_count": 196,
   "metadata": {},
   "outputs": [
    {
     "name": "stdout",
     "output_type": "stream",
     "text": [
      "[0.9521632, 60, 10, 1, 49, 55, 2, 41, 14, 43] \n",
      " [0.9521632, 0.9430553, 0.93919826, 0.93579376, 0.9284587, 0.92755836, 0.9270968, 0.92068046, 0.9175818, 0.9174055]\n"
     ]
    }
   ],
   "source": [
    "results = get_recommendation(sim_rank,groups)"
   ]
  },
  {
   "cell_type": "code",
   "execution_count": 186,
   "metadata": {},
   "outputs": [
    {
     "data": {
      "text/plain": [
       "[154035, 103402, 121804, 96941, 59028, 175016, 110783, 189900, 208529, 46195]"
      ]
     },
     "execution_count": 186,
     "metadata": {},
     "output_type": "execute_result"
    }
   ],
   "source": [
    "results"
   ]
  },
  {
   "cell_type": "code",
   "execution_count": null,
   "metadata": {},
   "outputs": [],
   "source": []
  },
  {
   "cell_type": "code",
   "execution_count": 184,
   "metadata": {},
   "outputs": [],
   "source": [
    "namelist = list(data.iloc[results].name)"
   ]
  },
  {
   "cell_type": "code",
   "execution_count": 174,
   "metadata": {},
   "outputs": [],
   "source": []
  },
  {
   "cell_type": "code",
   "execution_count": 197,
   "metadata": {},
   "outputs": [
    {
     "data": {
      "text/plain": [
       "['Pasta With Kielbasa And Swiss Chard',\n",
       " 'Healthy Chicken And Potato',\n",
       " 'Lemon Lamb Soup',\n",
       " 'Greek Like Potatoes',\n",
       " 'Country Chicken And Vegetables Crock Pot',\n",
       " 'Roasted Asparagus The Best I Ve Ever Tried',\n",
       " 'Ina Garten Garlic Roast Chicken',\n",
       " 'Smoked Sausage Green Beans And Potatoes',\n",
       " 'Tangy Tamarind Chicken',\n",
       " 'Chicken W Cream Of Mushroom Potatoes']"
      ]
     },
     "execution_count": 197,
     "metadata": {},
     "output_type": "execute_result"
    }
   ],
   "source": [
    "[pretty_name(name) for name in namelist]"
   ]
  },
  {
   "cell_type": "code",
   "execution_count": 191,
   "metadata": {},
   "outputs": [
    {
     "data": {
      "text/html": [
       "<div>\n",
       "<style scoped>\n",
       "    .dataframe tbody tr th:only-of-type {\n",
       "        vertical-align: middle;\n",
       "    }\n",
       "\n",
       "    .dataframe tbody tr th {\n",
       "        vertical-align: top;\n",
       "    }\n",
       "\n",
       "    .dataframe thead th {\n",
       "        text-align: right;\n",
       "    }\n",
       "</style>\n",
       "<table border=\"1\" class=\"dataframe\">\n",
       "  <thead>\n",
       "    <tr style=\"text-align: right;\">\n",
       "      <th></th>\n",
       "      <th>name</th>\n",
       "      <th>id</th>\n",
       "      <th>minutes</th>\n",
       "      <th>contributor_id</th>\n",
       "      <th>submitted</th>\n",
       "      <th>tags</th>\n",
       "      <th>nutrition</th>\n",
       "      <th>n_steps</th>\n",
       "      <th>steps</th>\n",
       "      <th>description</th>\n",
       "      <th>ingredients</th>\n",
       "      <th>n_ingredients</th>\n",
       "    </tr>\n",
       "  </thead>\n",
       "  <tbody>\n",
       "    <tr>\n",
       "      <th>154035</th>\n",
       "      <td>pasta with kielbasa and swiss chard</td>\n",
       "      <td>456943</td>\n",
       "      <td>55</td>\n",
       "      <td>28087</td>\n",
       "      <td>2011-05-22</td>\n",
       "      <td>[60-minutes-or-less, time-to-make, main-ingred...</td>\n",
       "      <td>[598.8, 41.0, 7.0, 48.0, 37.0, 40.0, 24.0]</td>\n",
       "      <td>11</td>\n",
       "      <td>[cut out center ribs and stems from chard , th...</td>\n",
       "      <td>posting for zwt 7. this recipes comes from epi...</td>\n",
       "      <td>[swiss chard, kielbasa, olive oil, salt, garli...</td>\n",
       "      <td>9</td>\n",
       "    </tr>\n",
       "    <tr>\n",
       "      <th>103402</th>\n",
       "      <td>healthy chicken and potato</td>\n",
       "      <td>301847</td>\n",
       "      <td>25</td>\n",
       "      <td>830692</td>\n",
       "      <td>2008-05-01</td>\n",
       "      <td>[30-minutes-or-less, time-to-make, course, mai...</td>\n",
       "      <td>[236.0, 10.0, 12.0, 3.0, 36.0, 9.0, 8.0]</td>\n",
       "      <td>4</td>\n",
       "      <td>[spray a larg skillet with non-stick cooking s...</td>\n",
       "      <td>very healthy and low in fat and calories. chic...</td>\n",
       "      <td>[mixed vegetables, chicken breasts, onion, pot...</td>\n",
       "      <td>4</td>\n",
       "    </tr>\n",
       "    <tr>\n",
       "      <th>121804</th>\n",
       "      <td>lemon lamb soup</td>\n",
       "      <td>214325</td>\n",
       "      <td>60</td>\n",
       "      <td>457852</td>\n",
       "      <td>2007-02-28</td>\n",
       "      <td>[60-minutes-or-less, time-to-make, course, mai...</td>\n",
       "      <td>[92.5, 0.0, 3.0, 30.0, 5.0, 0.0, 7.0]</td>\n",
       "      <td>10</td>\n",
       "      <td>[add water and salt and bring to boil, add lam...</td>\n",
       "      <td>this is a hearty soup that works every time. i...</td>\n",
       "      <td>[shoulder lamb chops, water, fennel bulb, pota...</td>\n",
       "      <td>7</td>\n",
       "    </tr>\n",
       "    <tr>\n",
       "      <th>96941</th>\n",
       "      <td>greek like potatoes</td>\n",
       "      <td>322775</td>\n",
       "      <td>30</td>\n",
       "      <td>730273</td>\n",
       "      <td>2008-09-03</td>\n",
       "      <td>[30-minutes-or-less, time-to-make, course, mai...</td>\n",
       "      <td>[293.2, 21.0, 6.0, 0.0, 9.0, 9.0, 13.0]</td>\n",
       "      <td>9</td>\n",
       "      <td>[peel and cut potatoes into bite-sized pieces,...</td>\n",
       "      <td>an easy side dish you can make that tastes great!</td>\n",
       "      <td>[potatoes, lemon, garlic cloves, salt, olive oil]</td>\n",
       "      <td>5</td>\n",
       "    </tr>\n",
       "    <tr>\n",
       "      <th>59028</th>\n",
       "      <td>country chicken and vegetables  crock pot</td>\n",
       "      <td>31781</td>\n",
       "      <td>492</td>\n",
       "      <td>27643</td>\n",
       "      <td>2002-06-20</td>\n",
       "      <td>[weeknight, time-to-make, course, main-ingredi...</td>\n",
       "      <td>[576.1, 40.0, 31.0, 29.0, 74.0, 54.0, 15.0]</td>\n",
       "      <td>9</td>\n",
       "      <td>[cut chicken breasts in half crosswise, in cro...</td>\n",
       "      <td>wonderful creamy chicken without heating up th...</td>\n",
       "      <td>[chicken breasts, potatoes, baby carrots, onio...</td>\n",
       "      <td>11</td>\n",
       "    </tr>\n",
       "    <tr>\n",
       "      <th>175016</th>\n",
       "      <td>roasted asparagus  the best i ve ever tried</td>\n",
       "      <td>366336</td>\n",
       "      <td>15</td>\n",
       "      <td>1193707</td>\n",
       "      <td>2009-04-16</td>\n",
       "      <td>[15-minutes-or-less, time-to-make, course, mai...</td>\n",
       "      <td>[73.5, 7.0, 7.0, 17.0, 7.0, 3.0, 2.0]</td>\n",
       "      <td>3</td>\n",
       "      <td>[heat oven to 350f, in large bowl combine aspa...</td>\n",
       "      <td>i got this from a \"real simple\" magazine long ...</td>\n",
       "      <td>[asparagus, olive oil, salt, cracked black pep...</td>\n",
       "      <td>4</td>\n",
       "    </tr>\n",
       "    <tr>\n",
       "      <th>110783</th>\n",
       "      <td>ina garten garlic roast chicken</td>\n",
       "      <td>444373</td>\n",
       "      <td>135</td>\n",
       "      <td>640155</td>\n",
       "      <td>2010-12-17</td>\n",
       "      <td>[time-to-make, course, preparation, main-dish,...</td>\n",
       "      <td>[1974.5, 166.0, 59.0, 26.0, 241.0, 166.0, 42.0]</td>\n",
       "      <td>13</td>\n",
       "      <td>[as soon as you get the chicken home , salt it...</td>\n",
       "      <td>easy to make.</td>\n",
       "      <td>[chicken, garlic, lemon, onions, carrots, pota...</td>\n",
       "      <td>8</td>\n",
       "    </tr>\n",
       "    <tr>\n",
       "      <th>189900</th>\n",
       "      <td>smoked sausage  green beans  and potatoes</td>\n",
       "      <td>98035</td>\n",
       "      <td>40</td>\n",
       "      <td>124190</td>\n",
       "      <td>2004-08-17</td>\n",
       "      <td>[60-minutes-or-less, time-to-make, course, mai...</td>\n",
       "      <td>[583.9, 48.0, 43.0, 43.0, 44.0, 53.0, 18.0]</td>\n",
       "      <td>5</td>\n",
       "      <td>[cut kielbasa into bite sized pieces, in large...</td>\n",
       "      <td>simple, but very good. i think this may be a m...</td>\n",
       "      <td>[kielbasa, potatoes, onion, green beans, black...</td>\n",
       "      <td>6</td>\n",
       "    </tr>\n",
       "    <tr>\n",
       "      <th>208529</th>\n",
       "      <td>tangy tamarind chicken</td>\n",
       "      <td>9002</td>\n",
       "      <td>30</td>\n",
       "      <td>6164</td>\n",
       "      <td>2001-05-15</td>\n",
       "      <td>[30-minutes-or-less, time-to-make, course, mai...</td>\n",
       "      <td>[441.8, 42.0, 54.0, 20.0, 59.0, 36.0, 6.0]</td>\n",
       "      <td>7</td>\n",
       "      <td>[heat oil in a deep pan or skillet, add black ...</td>\n",
       "      <td>it is tangy and hot and very very yummy!</td>\n",
       "      <td>[chicken, tamarind pulp, spicy tomato sauce, o...</td>\n",
       "      <td>9</td>\n",
       "    </tr>\n",
       "    <tr>\n",
       "      <th>46195</th>\n",
       "      <td>chicken w cream of mushroom   potatoes</td>\n",
       "      <td>31807</td>\n",
       "      <td>55</td>\n",
       "      <td>45012</td>\n",
       "      <td>2002-06-20</td>\n",
       "      <td>[60-minutes-or-less, time-to-make, preparation...</td>\n",
       "      <td>[454.4, 21.0, 8.0, 4.0, 71.0, 19.0, 15.0]</td>\n",
       "      <td>10</td>\n",
       "      <td>[cut up potatoes into medium size pieces, in b...</td>\n",
       "      <td>my mother would make this.</td>\n",
       "      <td>[chicken breasts, fat-free cream of mushroom s...</td>\n",
       "      <td>4</td>\n",
       "    </tr>\n",
       "  </tbody>\n",
       "</table>\n",
       "</div>"
      ],
      "text/plain": [
       "                                               name      id  minutes  \\\n",
       "154035          pasta with kielbasa and swiss chard  456943       55   \n",
       "103402                   healthy chicken and potato  301847       25   \n",
       "121804                              lemon lamb soup  214325       60   \n",
       "96941                           greek like potatoes  322775       30   \n",
       "59028     country chicken and vegetables  crock pot   31781      492   \n",
       "175016  roasted asparagus  the best i ve ever tried  366336       15   \n",
       "110783              ina garten garlic roast chicken  444373      135   \n",
       "189900    smoked sausage  green beans  and potatoes   98035       40   \n",
       "208529                       tangy tamarind chicken    9002       30   \n",
       "46195        chicken w cream of mushroom   potatoes   31807       55   \n",
       "\n",
       "        contributor_id   submitted  \\\n",
       "154035           28087  2011-05-22   \n",
       "103402          830692  2008-05-01   \n",
       "121804          457852  2007-02-28   \n",
       "96941           730273  2008-09-03   \n",
       "59028            27643  2002-06-20   \n",
       "175016         1193707  2009-04-16   \n",
       "110783          640155  2010-12-17   \n",
       "189900          124190  2004-08-17   \n",
       "208529            6164  2001-05-15   \n",
       "46195            45012  2002-06-20   \n",
       "\n",
       "                                                     tags  \\\n",
       "154035  [60-minutes-or-less, time-to-make, main-ingred...   \n",
       "103402  [30-minutes-or-less, time-to-make, course, mai...   \n",
       "121804  [60-minutes-or-less, time-to-make, course, mai...   \n",
       "96941   [30-minutes-or-less, time-to-make, course, mai...   \n",
       "59028   [weeknight, time-to-make, course, main-ingredi...   \n",
       "175016  [15-minutes-or-less, time-to-make, course, mai...   \n",
       "110783  [time-to-make, course, preparation, main-dish,...   \n",
       "189900  [60-minutes-or-less, time-to-make, course, mai...   \n",
       "208529  [30-minutes-or-less, time-to-make, course, mai...   \n",
       "46195   [60-minutes-or-less, time-to-make, preparation...   \n",
       "\n",
       "                                              nutrition  n_steps  \\\n",
       "154035       [598.8, 41.0, 7.0, 48.0, 37.0, 40.0, 24.0]       11   \n",
       "103402         [236.0, 10.0, 12.0, 3.0, 36.0, 9.0, 8.0]        4   \n",
       "121804            [92.5, 0.0, 3.0, 30.0, 5.0, 0.0, 7.0]       10   \n",
       "96941           [293.2, 21.0, 6.0, 0.0, 9.0, 9.0, 13.0]        9   \n",
       "59028       [576.1, 40.0, 31.0, 29.0, 74.0, 54.0, 15.0]        9   \n",
       "175016            [73.5, 7.0, 7.0, 17.0, 7.0, 3.0, 2.0]        3   \n",
       "110783  [1974.5, 166.0, 59.0, 26.0, 241.0, 166.0, 42.0]       13   \n",
       "189900      [583.9, 48.0, 43.0, 43.0, 44.0, 53.0, 18.0]        5   \n",
       "208529       [441.8, 42.0, 54.0, 20.0, 59.0, 36.0, 6.0]        7   \n",
       "46195         [454.4, 21.0, 8.0, 4.0, 71.0, 19.0, 15.0]       10   \n",
       "\n",
       "                                                    steps  \\\n",
       "154035  [cut out center ribs and stems from chard , th...   \n",
       "103402  [spray a larg skillet with non-stick cooking s...   \n",
       "121804  [add water and salt and bring to boil, add lam...   \n",
       "96941   [peel and cut potatoes into bite-sized pieces,...   \n",
       "59028   [cut chicken breasts in half crosswise, in cro...   \n",
       "175016  [heat oven to 350f, in large bowl combine aspa...   \n",
       "110783  [as soon as you get the chicken home , salt it...   \n",
       "189900  [cut kielbasa into bite sized pieces, in large...   \n",
       "208529  [heat oil in a deep pan or skillet, add black ...   \n",
       "46195   [cut up potatoes into medium size pieces, in b...   \n",
       "\n",
       "                                              description  \\\n",
       "154035  posting for zwt 7. this recipes comes from epi...   \n",
       "103402  very healthy and low in fat and calories. chic...   \n",
       "121804  this is a hearty soup that works every time. i...   \n",
       "96941   an easy side dish you can make that tastes great!   \n",
       "59028   wonderful creamy chicken without heating up th...   \n",
       "175016  i got this from a \"real simple\" magazine long ...   \n",
       "110783                                      easy to make.   \n",
       "189900  simple, but very good. i think this may be a m...   \n",
       "208529           it is tangy and hot and very very yummy!   \n",
       "46195                          my mother would make this.   \n",
       "\n",
       "                                              ingredients  n_ingredients  \n",
       "154035  [swiss chard, kielbasa, olive oil, salt, garli...              9  \n",
       "103402  [mixed vegetables, chicken breasts, onion, pot...              4  \n",
       "121804  [shoulder lamb chops, water, fennel bulb, pota...              7  \n",
       "96941   [potatoes, lemon, garlic cloves, salt, olive oil]              5  \n",
       "59028   [chicken breasts, potatoes, baby carrots, onio...             11  \n",
       "175016  [asparagus, olive oil, salt, cracked black pep...              4  \n",
       "110783  [chicken, garlic, lemon, onions, carrots, pota...              8  \n",
       "189900  [kielbasa, potatoes, onion, green beans, black...              6  \n",
       "208529  [chicken, tamarind pulp, spicy tomato sauce, o...              9  \n",
       "46195   [chicken breasts, fat-free cream of mushroom s...              4  "
      ]
     },
     "execution_count": 191,
     "metadata": {},
     "output_type": "execute_result"
    }
   ],
   "source": [
    "data.iloc[results]"
   ]
  },
  {
   "cell_type": "code",
   "execution_count": null,
   "metadata": {},
   "outputs": [],
   "source": []
  }
 ],
 "metadata": {
  "kernelspec": {
   "display_name": "Python 3",
   "language": "python",
   "name": "python3"
  },
  "language_info": {
   "codemirror_mode": {
    "name": "ipython",
    "version": 3
   },
   "file_extension": ".py",
   "mimetype": "text/x-python",
   "name": "python",
   "nbconvert_exporter": "python",
   "pygments_lexer": "ipython3",
   "version": "3.7.3"
  }
 },
 "nbformat": 4,
 "nbformat_minor": 2
}
